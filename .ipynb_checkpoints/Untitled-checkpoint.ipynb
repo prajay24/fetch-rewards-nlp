{
 "cells": [
  {
   "cell_type": "code",
   "execution_count": 1,
   "id": "a1a8128e",
   "metadata": {},
   "outputs": [],
   "source": [
    "import pandas as pd\n",
    "brand_category = pd.read_csv('brand_category.csv')\n",
    "categories = pd.read_csv('categories.csv')\n",
    "offer_retailer = pd.read_csv('offer_retailer.csv')"
   ]
  },
  {
   "cell_type": "code",
   "execution_count": 2,
   "id": "93ab2a6d",
   "metadata": {},
   "outputs": [
    {
     "data": {
      "text/html": [
       "<div>\n",
       "<style scoped>\n",
       "    .dataframe tbody tr th:only-of-type {\n",
       "        vertical-align: middle;\n",
       "    }\n",
       "\n",
       "    .dataframe tbody tr th {\n",
       "        vertical-align: top;\n",
       "    }\n",
       "\n",
       "    .dataframe thead th {\n",
       "        text-align: right;\n",
       "    }\n",
       "</style>\n",
       "<table border=\"1\" class=\"dataframe\">\n",
       "  <thead>\n",
       "    <tr style=\"text-align: right;\">\n",
       "      <th></th>\n",
       "      <th>BRAND</th>\n",
       "      <th>BRAND_BELONGS_TO_CATEGORY</th>\n",
       "      <th>RECEIPTS</th>\n",
       "    </tr>\n",
       "  </thead>\n",
       "  <tbody>\n",
       "    <tr>\n",
       "      <th>0</th>\n",
       "      <td>CASEYS GEN STORE</td>\n",
       "      <td>Tobacco Products</td>\n",
       "      <td>2950931</td>\n",
       "    </tr>\n",
       "    <tr>\n",
       "      <th>1</th>\n",
       "      <td>CASEYS GEN STORE</td>\n",
       "      <td>Mature</td>\n",
       "      <td>2859240</td>\n",
       "    </tr>\n",
       "    <tr>\n",
       "      <th>2</th>\n",
       "      <td>EQUATE</td>\n",
       "      <td>Hair Removal</td>\n",
       "      <td>893268</td>\n",
       "    </tr>\n",
       "    <tr>\n",
       "      <th>3</th>\n",
       "      <td>PALMOLIVE</td>\n",
       "      <td>Bath &amp; Body</td>\n",
       "      <td>542562</td>\n",
       "    </tr>\n",
       "    <tr>\n",
       "      <th>4</th>\n",
       "      <td>DAWN</td>\n",
       "      <td>Bath &amp; Body</td>\n",
       "      <td>301844</td>\n",
       "    </tr>\n",
       "  </tbody>\n",
       "</table>\n",
       "</div>"
      ],
      "text/plain": [
       "              BRAND BRAND_BELONGS_TO_CATEGORY  RECEIPTS\n",
       "0  CASEYS GEN STORE          Tobacco Products   2950931\n",
       "1  CASEYS GEN STORE                    Mature   2859240\n",
       "2            EQUATE              Hair Removal    893268\n",
       "3         PALMOLIVE               Bath & Body    542562\n",
       "4              DAWN               Bath & Body    301844"
      ]
     },
     "execution_count": 2,
     "metadata": {},
     "output_type": "execute_result"
    }
   ],
   "source": [
    "brand_category.head()\n"
   ]
  },
  {
   "cell_type": "code",
   "execution_count": 3,
   "id": "cc1464ec",
   "metadata": {},
   "outputs": [
    {
     "data": {
      "text/html": [
       "<div>\n",
       "<style scoped>\n",
       "    .dataframe tbody tr th:only-of-type {\n",
       "        vertical-align: middle;\n",
       "    }\n",
       "\n",
       "    .dataframe tbody tr th {\n",
       "        vertical-align: top;\n",
       "    }\n",
       "\n",
       "    .dataframe thead th {\n",
       "        text-align: right;\n",
       "    }\n",
       "</style>\n",
       "<table border=\"1\" class=\"dataframe\">\n",
       "  <thead>\n",
       "    <tr style=\"text-align: right;\">\n",
       "      <th></th>\n",
       "      <th>CATEGORY_ID</th>\n",
       "      <th>PRODUCT_CATEGORY</th>\n",
       "      <th>IS_CHILD_CATEGORY_TO</th>\n",
       "    </tr>\n",
       "  </thead>\n",
       "  <tbody>\n",
       "    <tr>\n",
       "      <th>0</th>\n",
       "      <td>1f7d2fa7-a1d7-4969-aaf4-1244f232c175</td>\n",
       "      <td>Red Pasta Sauce</td>\n",
       "      <td>Pasta Sauce</td>\n",
       "    </tr>\n",
       "    <tr>\n",
       "      <th>1</th>\n",
       "      <td>3e48a9b3-1ab2-4f2d-867d-4a30828afeab</td>\n",
       "      <td>Alfredo &amp; White Pasta Sauce</td>\n",
       "      <td>Pasta Sauce</td>\n",
       "    </tr>\n",
       "    <tr>\n",
       "      <th>2</th>\n",
       "      <td>09f3decc-aa93-460d-936c-0ddf06b055a3</td>\n",
       "      <td>Cooking &amp; Baking</td>\n",
       "      <td>Pantry</td>\n",
       "    </tr>\n",
       "    <tr>\n",
       "      <th>3</th>\n",
       "      <td>12a89b18-4c01-4048-94b2-0705e0a45f6b</td>\n",
       "      <td>Packaged Seafood</td>\n",
       "      <td>Pantry</td>\n",
       "    </tr>\n",
       "    <tr>\n",
       "      <th>4</th>\n",
       "      <td>2caa015a-ca32-4456-a086-621446238783</td>\n",
       "      <td>Feminine Hygeine</td>\n",
       "      <td>Health &amp; Wellness</td>\n",
       "    </tr>\n",
       "  </tbody>\n",
       "</table>\n",
       "</div>"
      ],
      "text/plain": [
       "                            CATEGORY_ID             PRODUCT_CATEGORY  \\\n",
       "0  1f7d2fa7-a1d7-4969-aaf4-1244f232c175              Red Pasta Sauce   \n",
       "1  3e48a9b3-1ab2-4f2d-867d-4a30828afeab  Alfredo & White Pasta Sauce   \n",
       "2  09f3decc-aa93-460d-936c-0ddf06b055a3             Cooking & Baking   \n",
       "3  12a89b18-4c01-4048-94b2-0705e0a45f6b             Packaged Seafood   \n",
       "4  2caa015a-ca32-4456-a086-621446238783             Feminine Hygeine   \n",
       "\n",
       "  IS_CHILD_CATEGORY_TO  \n",
       "0          Pasta Sauce  \n",
       "1          Pasta Sauce  \n",
       "2               Pantry  \n",
       "3               Pantry  \n",
       "4    Health & Wellness  "
      ]
     },
     "execution_count": 3,
     "metadata": {},
     "output_type": "execute_result"
    }
   ],
   "source": [
    "categories.head()"
   ]
  },
  {
   "cell_type": "code",
   "execution_count": 4,
   "id": "4b09aa6a",
   "metadata": {},
   "outputs": [
    {
     "data": {
      "text/html": [
       "<div>\n",
       "<style scoped>\n",
       "    .dataframe tbody tr th:only-of-type {\n",
       "        vertical-align: middle;\n",
       "    }\n",
       "\n",
       "    .dataframe tbody tr th {\n",
       "        vertical-align: top;\n",
       "    }\n",
       "\n",
       "    .dataframe thead th {\n",
       "        text-align: right;\n",
       "    }\n",
       "</style>\n",
       "<table border=\"1\" class=\"dataframe\">\n",
       "  <thead>\n",
       "    <tr style=\"text-align: right;\">\n",
       "      <th></th>\n",
       "      <th>OFFER</th>\n",
       "      <th>RETAILER</th>\n",
       "      <th>BRAND</th>\n",
       "    </tr>\n",
       "  </thead>\n",
       "  <tbody>\n",
       "    <tr>\n",
       "      <th>0</th>\n",
       "      <td>Spend $50 on a Full-Priced new Club Membership</td>\n",
       "      <td>SAMS CLUB</td>\n",
       "      <td>SAMS CLUB</td>\n",
       "    </tr>\n",
       "    <tr>\n",
       "      <th>1</th>\n",
       "      <td>Beyond Meat® Plant-Based products, spend $25</td>\n",
       "      <td>NaN</td>\n",
       "      <td>BEYOND MEAT</td>\n",
       "    </tr>\n",
       "    <tr>\n",
       "      <th>2</th>\n",
       "      <td>Good Humor Viennetta Frozen Vanilla Cake</td>\n",
       "      <td>NaN</td>\n",
       "      <td>GOOD HUMOR</td>\n",
       "    </tr>\n",
       "    <tr>\n",
       "      <th>3</th>\n",
       "      <td>Butterball, select varieties, spend $10 at Dil...</td>\n",
       "      <td>DILLONS FOOD STORE</td>\n",
       "      <td>BUTTERBALL</td>\n",
       "    </tr>\n",
       "    <tr>\n",
       "      <th>4</th>\n",
       "      <td>GATORADE® Fast Twitch®, 12-ounce 12 pack, at A...</td>\n",
       "      <td>AMAZON</td>\n",
       "      <td>GATORADE</td>\n",
       "    </tr>\n",
       "  </tbody>\n",
       "</table>\n",
       "</div>"
      ],
      "text/plain": [
       "                                               OFFER            RETAILER  \\\n",
       "0     Spend $50 on a Full-Priced new Club Membership           SAMS CLUB   \n",
       "1       Beyond Meat® Plant-Based products, spend $25                 NaN   \n",
       "2           Good Humor Viennetta Frozen Vanilla Cake                 NaN   \n",
       "3  Butterball, select varieties, spend $10 at Dil...  DILLONS FOOD STORE   \n",
       "4  GATORADE® Fast Twitch®, 12-ounce 12 pack, at A...              AMAZON   \n",
       "\n",
       "         BRAND  \n",
       "0    SAMS CLUB  \n",
       "1  BEYOND MEAT  \n",
       "2   GOOD HUMOR  \n",
       "3   BUTTERBALL  \n",
       "4     GATORADE  "
      ]
     },
     "execution_count": 4,
     "metadata": {},
     "output_type": "execute_result"
    }
   ],
   "source": [
    "offer_retailer.head()"
   ]
  },
  {
   "cell_type": "code",
   "execution_count": 5,
   "id": "51755d46",
   "metadata": {},
   "outputs": [
    {
     "data": {
      "text/plain": [
       "Beer              2143\n",
       "Spirits           1850\n",
       "Wine              1850\n",
       "Fruit Juices       350\n",
       "Malt Beverages     312\n",
       "                  ... \n",
       "Food Storage         1\n",
       "Cosmetic Tools       1\n",
       "Toothpaste           1\n",
       "Popcorn              1\n",
       "Sexual Health        1\n",
       "Name: BRAND_BELONGS_TO_CATEGORY, Length: 118, dtype: int64"
      ]
     },
     "execution_count": 5,
     "metadata": {},
     "output_type": "execute_result"
    }
   ],
   "source": [
    "# get distinct values and counts of column \"BRAND_BELONGS_TO_CATEGORY\" in df brand_category\n",
    "brand_category['BRAND_BELONGS_TO_CATEGORY'].value_counts()"
   ]
  },
  {
   "cell_type": "code",
   "execution_count": 6,
   "id": "3cdc2099",
   "metadata": {},
   "outputs": [
    {
     "name": "stdout",
     "output_type": "stream",
     "text": [
      "True\n"
     ]
    }
   ],
   "source": [
    "# cehcking if the categories in the brand_category.csv are the same as the categories in the categories.csv\n",
    "if(set(brand_category['BRAND_BELONGS_TO_CATEGORY'].unique()) == set(categories['PRODUCT_CATEGORY'].unique())):\n",
    "    print('True')"
   ]
  },
  {
   "cell_type": "code",
   "execution_count": 7,
   "id": "ce31a387",
   "metadata": {},
   "outputs": [],
   "source": [
    "import pandas as pd\n",
    "import time\n",
    "from tqdm import tqdm\n",
    "import seaborn as sns\n",
    "import numpy as np\n",
    "from textblob import TextBlob\n",
    "import matplotlib.pyplot as plt\n",
    "from sentence_transformers import SentenceTransformer\n",
    "model = SentenceTransformer('msmarco-distilbert-base-dot-prod-v3')"
   ]
  },
  {
   "cell_type": "code",
   "execution_count": 8,
   "id": "6ed392e8",
   "metadata": {},
   "outputs": [
    {
     "name": "stderr",
     "output_type": "stream",
     "text": [
      "2023-07-28 18:07:04.694 INFO    sentence_transformers.SentenceTransformer: Load pretrained SentenceTransformer: bert-base-nli-mean-tokens\n",
      "2023-07-28 18:07:05.796 INFO    sentence_transformers.SentenceTransformer: Use pytorch device: cpu\n"
     ]
    }
   ],
   "source": [
    "\n",
    "import streamlit as st\n",
    "import pandas as pd\n",
    "from sentence_transformers import SentenceTransformer\n",
    "import scipy\n",
    "\n",
    "# Load the SBERT model\n",
    "embedder = SentenceTransformer('bert-base-nli-mean-tokens')\n",
    "\n",
    "# Function to perform the search and return results\n",
    "def search(input_str, query):\n",
    "    closest_n = st.slider(\"Number of closest sentences to display\", min_value=5, max_value=50, value=8, step=5)\n",
    "    query_embeddings = embedder.encode([query])\n",
    "    corpus_embeddings = embedder.encode(input_str)\n",
    "    distances = scipy.spatial.distance.cdist(query_embeddings, corpus_embeddings, \"cosine\")[0]\n",
    "\n",
    "    results = zip(range(len(distances)), distances)\n",
    "    results = sorted(results, key=lambda x: x[1])\n",
    "\n",
    "    results_list = []\n",
    "    for idx, distance in results[0:closest_n]:\n",
    "        result = {}\n",
    "        result['sentence'] = input_str[idx].strip()\n",
    "        result['cosine_similarity'] = (1 - distance)\n",
    "        results_list.append(result)\n",
    "\n",
    "    return results_list\n",
    " \n",
    "# Streamlit interface\n",
    "# def main():\n",
    "#     st.set_page_config(page_title=\"Semantic Search Engine\", page_icon=\":mag_right:\", layout=\"wide\")\n",
    "#     st.title(\"Semantic Search Engine with SBERT\")\n",
    "\n",
    "#     uploaded_file = st.file_uploader(\"Upload your CSV data file\", type=[\"csv\"])\n",
    "#     if uploaded_file is not None:\n",
    "#         df = pd.read_csv(uploaded_file)\n",
    "#         query = st.text_input(\"Enter your search query\")\n",
    "#         if st.button(\"Search\"):\n",
    "#             results = search(df, query)\n",
    "#             st.write(\"Results:\", len(results))\n",
    "#             st.dataframe(pd.DataFrame(results))\n",
    "\n",
    "\n",
    "\n",
    "\n",
    "# if __name__ == '__main__':\n",
    "#     main()"
   ]
  },
  {
   "cell_type": "code",
   "execution_count": 9,
   "id": "3c862ad1",
   "metadata": {},
   "outputs": [
    {
     "name": "stderr",
     "output_type": "stream",
     "text": [
      "2023-07-28 18:07:06.136 \n",
      "  \u001b[33m\u001b[1mWarning:\u001b[0m to view this Streamlit app on a browser, run it with the following\n",
      "  command:\n",
      "\n",
      "    streamlit run /Users/prajaysachdev/opt/anaconda3/lib/python3.8/site-packages/ipykernel_launcher.py [ARGUMENTS]\n"
     ]
    },
    {
     "data": {
      "application/vnd.jupyter.widget-view+json": {
       "model_id": "231d45d59ccf4959930c9edc7ac52c41",
       "version_major": 2,
       "version_minor": 0
      },
      "text/plain": [
       "Batches:   0%|          | 0/1 [00:00<?, ?it/s]"
      ]
     },
     "metadata": {},
     "output_type": "display_data"
    },
    {
     "data": {
      "application/vnd.jupyter.widget-view+json": {
       "model_id": "1accc6d095b74079a99dcc4baa933b64",
       "version_major": 2,
       "version_minor": 0
      },
      "text/plain": [
       "Batches:   0%|          | 0/1 [00:00<?, ?it/s]"
      ]
     },
     "metadata": {},
     "output_type": "display_data"
    },
    {
     "ename": "ValueError",
     "evalue": "XB must be a 2-dimensional array.",
     "output_type": "error",
     "traceback": [
      "\u001b[0;31m---------------------------------------------------------------------------\u001b[0m",
      "\u001b[0;31mValueError\u001b[0m                                Traceback (most recent call last)",
      "\u001b[0;32m<ipython-input-9-8004de01e778>\u001b[0m in \u001b[0;36m<module>\u001b[0;34m\u001b[0m\n\u001b[1;32m     12\u001b[0m \u001b[0;34m\u001b[0m\u001b[0m\n\u001b[1;32m     13\u001b[0m \u001b[0;32mfor\u001b[0m \u001b[0moffer\u001b[0m \u001b[0;32min\u001b[0m \u001b[0mdocuments\u001b[0m\u001b[0;34m:\u001b[0m\u001b[0;34m\u001b[0m\u001b[0;34m\u001b[0m\u001b[0m\n\u001b[0;32m---> 14\u001b[0;31m     \u001b[0mprint\u001b[0m\u001b[0;34m(\u001b[0m\u001b[0msearch\u001b[0m\u001b[0;34m(\u001b[0m\u001b[0moffer\u001b[0m\u001b[0;34m,\u001b[0m \u001b[0mquery\u001b[0m\u001b[0;34m)\u001b[0m\u001b[0;34m)\u001b[0m\u001b[0;34m\u001b[0m\u001b[0;34m\u001b[0m\u001b[0m\n\u001b[0m",
      "\u001b[0;32m<ipython-input-8-42d275fc163c>\u001b[0m in \u001b[0;36msearch\u001b[0;34m(input_str, query)\u001b[0m\n\u001b[1;32m     12\u001b[0m     \u001b[0mquery_embeddings\u001b[0m \u001b[0;34m=\u001b[0m \u001b[0membedder\u001b[0m\u001b[0;34m.\u001b[0m\u001b[0mencode\u001b[0m\u001b[0;34m(\u001b[0m\u001b[0;34m[\u001b[0m\u001b[0mquery\u001b[0m\u001b[0;34m]\u001b[0m\u001b[0;34m)\u001b[0m\u001b[0;34m\u001b[0m\u001b[0;34m\u001b[0m\u001b[0m\n\u001b[1;32m     13\u001b[0m     \u001b[0mcorpus_embeddings\u001b[0m \u001b[0;34m=\u001b[0m \u001b[0membedder\u001b[0m\u001b[0;34m.\u001b[0m\u001b[0mencode\u001b[0m\u001b[0;34m(\u001b[0m\u001b[0minput_str\u001b[0m\u001b[0;34m)\u001b[0m\u001b[0;34m\u001b[0m\u001b[0;34m\u001b[0m\u001b[0m\n\u001b[0;32m---> 14\u001b[0;31m     \u001b[0mdistances\u001b[0m \u001b[0;34m=\u001b[0m \u001b[0mscipy\u001b[0m\u001b[0;34m.\u001b[0m\u001b[0mspatial\u001b[0m\u001b[0;34m.\u001b[0m\u001b[0mdistance\u001b[0m\u001b[0;34m.\u001b[0m\u001b[0mcdist\u001b[0m\u001b[0;34m(\u001b[0m\u001b[0mquery_embeddings\u001b[0m\u001b[0;34m,\u001b[0m \u001b[0mcorpus_embeddings\u001b[0m\u001b[0;34m,\u001b[0m \u001b[0;34m\"cosine\"\u001b[0m\u001b[0;34m)\u001b[0m\u001b[0;34m[\u001b[0m\u001b[0;36m0\u001b[0m\u001b[0;34m]\u001b[0m\u001b[0;34m\u001b[0m\u001b[0;34m\u001b[0m\u001b[0m\n\u001b[0m\u001b[1;32m     15\u001b[0m \u001b[0;34m\u001b[0m\u001b[0m\n\u001b[1;32m     16\u001b[0m     \u001b[0mresults\u001b[0m \u001b[0;34m=\u001b[0m \u001b[0mzip\u001b[0m\u001b[0;34m(\u001b[0m\u001b[0mrange\u001b[0m\u001b[0;34m(\u001b[0m\u001b[0mlen\u001b[0m\u001b[0;34m(\u001b[0m\u001b[0mdistances\u001b[0m\u001b[0;34m)\u001b[0m\u001b[0;34m)\u001b[0m\u001b[0;34m,\u001b[0m \u001b[0mdistances\u001b[0m\u001b[0;34m)\u001b[0m\u001b[0;34m\u001b[0m\u001b[0;34m\u001b[0m\u001b[0m\n",
      "\u001b[0;32m~/opt/anaconda3/lib/python3.8/site-packages/scipy/spatial/distance.py\u001b[0m in \u001b[0;36mcdist\u001b[0;34m(XA, XB, metric, out, **kwargs)\u001b[0m\n\u001b[1;32m   2916\u001b[0m         \u001b[0;32mraise\u001b[0m \u001b[0mValueError\u001b[0m\u001b[0;34m(\u001b[0m\u001b[0;34m'XA must be a 2-dimensional array.'\u001b[0m\u001b[0;34m)\u001b[0m\u001b[0;34m\u001b[0m\u001b[0;34m\u001b[0m\u001b[0m\n\u001b[1;32m   2917\u001b[0m     \u001b[0;32mif\u001b[0m \u001b[0mlen\u001b[0m\u001b[0;34m(\u001b[0m\u001b[0msB\u001b[0m\u001b[0;34m)\u001b[0m \u001b[0;34m!=\u001b[0m \u001b[0;36m2\u001b[0m\u001b[0;34m:\u001b[0m\u001b[0;34m\u001b[0m\u001b[0;34m\u001b[0m\u001b[0m\n\u001b[0;32m-> 2918\u001b[0;31m         \u001b[0;32mraise\u001b[0m \u001b[0mValueError\u001b[0m\u001b[0;34m(\u001b[0m\u001b[0;34m'XB must be a 2-dimensional array.'\u001b[0m\u001b[0;34m)\u001b[0m\u001b[0;34m\u001b[0m\u001b[0;34m\u001b[0m\u001b[0m\n\u001b[0m\u001b[1;32m   2919\u001b[0m     \u001b[0;32mif\u001b[0m \u001b[0ms\u001b[0m\u001b[0;34m[\u001b[0m\u001b[0;36m1\u001b[0m\u001b[0;34m]\u001b[0m \u001b[0;34m!=\u001b[0m \u001b[0msB\u001b[0m\u001b[0;34m[\u001b[0m\u001b[0;36m1\u001b[0m\u001b[0;34m]\u001b[0m\u001b[0;34m:\u001b[0m\u001b[0;34m\u001b[0m\u001b[0;34m\u001b[0m\u001b[0m\n\u001b[1;32m   2920\u001b[0m         raise ValueError('XA and XB must have the same number of columns '\n",
      "\u001b[0;31mValueError\u001b[0m: XB must be a 2-dimensional array."
     ]
    }
   ],
   "source": [
    "documents = [\n",
    "\"Dr Pepper®, Regular OR Zero Sugar Strawberries and Cream 12 pack, at select retailers\",\n",
    "\"This is another sentence.\",\n",
    "\"Yet another sentence.\",\n",
    "\"PepsiCo® Beverage, 7.5-ounce 10 pack, select varieties, at Amazon Storefront*\",\n",
    "\"Stubborn Soda OR Bundaberg Ginger Beer, select varieties, at Amazon Storefront\",\n",
    "\"Starry™ Lemon Lime Soda, 7.5-ounce 10 pack, at Amazon Storefront\",\n",
    "\"Butterball, select varieties, spend $10 at Dillons Food Store\",\n",
    "\"L'Oréal Paris Hair color, select varieties, spend $19 at Target\"\n",
    "]\n",
    "query = \"soda\"\n",
    "\n",
    "for offer in documents:\n",
    "    print(search(offer, query))\n"
   ]
  },
  {
   "cell_type": "code",
   "execution_count": 10,
   "id": "321afc2a",
   "metadata": {},
   "outputs": [
    {
     "name": "stderr",
     "output_type": "stream",
     "text": [
      "2023-07-28 18:07:19.570 Load pretrained SentenceTransformer: all-MiniLM-L6-v2\n",
      "2023-07-28 18:07:19.937 Use pytorch device: cpu\n"
     ]
    },
    {
     "data": {
      "application/vnd.jupyter.widget-view+json": {
       "model_id": "8209934ab0a3445e871d14bf73df49cd",
       "version_major": 2,
       "version_minor": 0
      },
      "text/plain": [
       "Batches:   0%|          | 0/1 [00:00<?, ?it/s]"
      ]
     },
     "metadata": {},
     "output_type": "display_data"
    },
    {
     "data": {
      "application/vnd.jupyter.widget-view+json": {
       "model_id": "db85f1d254b7468190f248df3b932924",
       "version_major": 2,
       "version_minor": 0
      },
      "text/plain": [
       "Batches:   0%|          | 0/1 [00:00<?, ?it/s]"
      ]
     },
     "metadata": {},
     "output_type": "display_data"
    },
    {
     "name": "stdout",
     "output_type": "stream",
     "text": [
      "[[0.3747428  0.24613845 0.23898695 0.47979438 0.5638983  0.5093026\n",
      "  0.23314773 0.15535465]]\n"
     ]
    }
   ],
   "source": [
    "from sentence_transformers import SentenceTransformer\n",
    "from sklearn.metrics.pairwise import cosine_similarity\n",
    "\n",
    "def semantic_search(query, documents):\n",
    "    # Initialize the model\n",
    "    model = SentenceTransformer('all-MiniLM-L6-v2')\n",
    "\n",
    "    # Encode the documents and query\n",
    "    doc_embeddings = model.encode(documents)\n",
    "    query_embedding = model.encode([query])\n",
    "\n",
    "    # Compute cosine similarity between the query and all documents\n",
    "    similarities = cosine_similarity(query_embedding, doc_embeddings)\n",
    "\n",
    "    # Get the index of the most similar document\n",
    "    most_similar_idx = similarities[0].argmax()\n",
    "\n",
    "    # Return the most similar document\n",
    "#     return documents[most_similar_idx]\n",
    "    return similarities\n",
    "\n",
    "# Test the function\n",
    "documents = [\n",
    "\"Dr Pepper®, Regular OR Zero Sugar Strawberries and Cream 12 pack, at select retailers\",\n",
    "\"This is another sentence.\",\n",
    "\"Yet another sentence.\",\n",
    "\"PepsiCo® Beverage, 7.5-ounce 10 pack, select varieties, at Amazon Storefront*\",\n",
    "\"Stubborn Soda OR Bundaberg Ginger Beer, select varieties, at Amazon Storefront\",\n",
    "\"Starry™ Lemon Lime Soda, 7.5-ounce 10 pack, at Amazon Storefront\",\n",
    "\"Butterball, select varieties, spend $10 at Dillons Food Store\",\n",
    "\"L'Oréal Paris Hair color, select varieties, spend $19 at Target\"\n",
    "]\n",
    "query = \"soda\"\n",
    "\n",
    "print(semantic_search(query, documents))"
   ]
  },
  {
   "cell_type": "code",
   "execution_count": 11,
   "id": "1a5a2197",
   "metadata": {},
   "outputs": [],
   "source": [
    "from transformers import RobertaModel, RobertaTokenizer\n",
    "import torch\n",
    "from sklearn.metrics.pairwise import cosine_similarity\n",
    "\n",
    "def semantic_search_roberta(query, documents):\n",
    "    # Initialize the tokenizer and model\n",
    "    tokenizer = RobertaTokenizer.from_pretrained('roberta-base')\n",
    "    model = RobertaModel.from_pretrained('roberta-base')\n",
    "\n",
    "    # Encode the documents and query\n",
    "    doc_embeddings = []\n",
    "    for doc in documents:\n",
    "        inputs = tokenizer(doc, return_tensors='pt', truncation=True, max_length=128, padding='max_length')\n",
    "        outputs = model(**inputs)\n",
    "        doc_embeddings.append(outputs.last_hidden_state.mean(dim=1).detach().numpy().squeeze())\n",
    "    \n",
    "    inputs = tokenizer(query, return_tensors='pt', truncation=True, max_length=128, padding='max_length')\n",
    "    outputs = model(**inputs)\n",
    "    query_embedding = outputs.last_hidden_state.mean(dim=1).detach().numpy().squeeze()\n",
    "\n",
    "    # Compute cosine similarity between the query and all documents\n",
    "    similarities = cosine_similarity([query_embedding], doc_embeddings)\n",
    "    print(similarities)\n",
    "\n",
    "    # Get the index of the most similar document\n",
    "    most_similar_idx = similarities[0].argmax()\n",
    "\n",
    "    # Return the most similar document\n",
    "    return documents[most_similar_idx]\n"
   ]
  },
  {
   "cell_type": "code",
   "execution_count": 12,
   "id": "d6c1c8b3",
   "metadata": {},
   "outputs": [
    {
     "name": "stderr",
     "output_type": "stream",
     "text": [
      "Some weights of RobertaModel were not initialized from the model checkpoint at roberta-base and are newly initialized: ['roberta.pooler.dense.weight', 'roberta.pooler.dense.bias']\n",
      "You should probably TRAIN this model on a down-stream task to be able to use it for predictions and inference.\n"
     ]
    },
    {
     "name": "stdout",
     "output_type": "stream",
     "text": [
      "[[0.8046547  0.8702591  0.796464   0.8067523  0.7990379  0.82044584\n",
      "  0.92850006 0.83680475]]\n",
      "Butterball, select varieties, spend $10 at Dillons Food Store\n"
     ]
    }
   ],
   "source": [
    "# Test the function\n",
    "documents = [\n",
    "\"Dr Pepper®, Regular OR Zero Sugar Strawberries and Cream 12 pack, at select retailers\",\n",
    "\"This is another sentence.\",\n",
    "\"Yet another sentence.\",\n",
    "\"PepsiCo® Beverage, 7.5-ounce 10 pack, select varieties, at Amazon Storefront*\",\n",
    "\"Stubborn Soda OR Bundaberg Ginger Beer, select varieties, at Amazon Storefront\",\n",
    "\"Starry™ Lemon Lime Soda, 7.5-ounce 10 pack, at Amazon Storefront\",\n",
    "\"Butterball, select varieties, spend $10 at Dillons Food Store\",\n",
    "\"L'Oréal Paris Hair color, select varieties, spend $19 at Target\"\n",
    "]\n",
    "query = \"soda\"\n",
    "\n",
    "print(semantic_search_roberta(query, documents))"
   ]
  },
  {
   "cell_type": "code",
   "execution_count": 13,
   "id": "386d76f9",
   "metadata": {},
   "outputs": [
    {
     "name": "stderr",
     "output_type": "stream",
     "text": [
      "2023-07-28 18:07:28.629 Load pretrained SentenceTransformer: all-mpnet-base-v2\n",
      "2023-07-28 18:07:29.938 Use pytorch device: cpu\n"
     ]
    },
    {
     "data": {
      "application/vnd.jupyter.widget-view+json": {
       "model_id": "56bfc89badb6484caaff42bde27497c4",
       "version_major": 2,
       "version_minor": 0
      },
      "text/plain": [
       "Batches:   0%|          | 0/1 [00:00<?, ?it/s]"
      ]
     },
     "metadata": {},
     "output_type": "display_data"
    },
    {
     "data": {
      "application/vnd.jupyter.widget-view+json": {
       "model_id": "e6bcc2d2b03341d0a583952bd5b5a586",
       "version_major": 2,
       "version_minor": 0
      },
      "text/plain": [
       "Batches:   0%|          | 0/1 [00:00<?, ?it/s]"
      ]
     },
     "metadata": {},
     "output_type": "display_data"
    },
    {
     "name": "stdout",
     "output_type": "stream",
     "text": [
      "[[0.44180584 0.13388655 0.16023706 0.5811858  0.57637167 0.5576628\n",
      "  0.25160897 0.16106482]]\n",
      "PepsiCo® Beverage, 7.5-ounce 10 pack, select varieties, at Amazon Storefront*\n"
     ]
    }
   ],
   "source": [
    "def mp_net_semantic_search(query, documents):\n",
    "    # Initialize the model\n",
    "    model = SentenceTransformer('all-mpnet-base-v2')\n",
    "\n",
    "    # Encode the documents and query\n",
    "    doc_embeddings = model.encode(documents)\n",
    "    query_embedding = model.encode([query])\n",
    "\n",
    "    # Compute cosine similarity between the query and all documents\n",
    "    similarities = cosine_similarity(query_embedding, doc_embeddings)\n",
    "    print(similarities)\n",
    "    \n",
    "    # Get the index of the most similar document\n",
    "    most_similar_idx = similarities[0].argmax()\n",
    "\n",
    "    # Return the most similar document\n",
    "    return documents[most_similar_idx]\n",
    "\n",
    "\n",
    "# Test the function\n",
    "documents = [\n",
    "\"Dr Pepper®, Regular OR Zero Sugar Strawberries and Cream 12 pack, at select retailers\",\n",
    "\"This is another sentence.\",\n",
    "\"Yet another sentence.\",\n",
    "\"PepsiCo® Beverage, 7.5-ounce 10 pack, select varieties, at Amazon Storefront*\",\n",
    "\"Stubborn Soda OR Bundaberg Ginger Beer, select varieties, at Amazon Storefront\",\n",
    "\"Starry™ Lemon Lime Soda, 7.5-ounce 10 pack, at Amazon Storefront\",\n",
    "\"Butterball, select varieties, spend $10 at Dillons Food Store\",\n",
    "\"L'Oréal Paris Hair color, select varieties, spend $19 at Target\"\n",
    "]\n",
    "query = \"soda\"\n",
    "\n",
    "print(mp_net_semantic_search(query, documents))"
   ]
  },
  {
   "cell_type": "code",
   "execution_count": 14,
   "id": "a968696b",
   "metadata": {},
   "outputs": [
    {
     "name": "stderr",
     "output_type": "stream",
     "text": [
      "2023-07-28 18:07:30.868 Load pretrained SentenceTransformer: multi-qa-mpnet-base-dot-v1\n",
      "2023-07-28 18:07:32.058 Use pytorch device: cpu\n"
     ]
    },
    {
     "data": {
      "application/vnd.jupyter.widget-view+json": {
       "model_id": "a6124d4b66d543b8975ce910e8d38130",
       "version_major": 2,
       "version_minor": 0
      },
      "text/plain": [
       "Batches:   0%|          | 0/1 [00:00<?, ?it/s]"
      ]
     },
     "metadata": {},
     "output_type": "display_data"
    },
    {
     "data": {
      "application/vnd.jupyter.widget-view+json": {
       "model_id": "71ef6f144eac41e2abe6ab853a4d8d10",
       "version_major": 2,
       "version_minor": 0
      },
      "text/plain": [
       "Batches:   0%|          | 0/1 [00:00<?, ?it/s]"
      ]
     },
     "metadata": {},
     "output_type": "display_data"
    },
    {
     "name": "stdout",
     "output_type": "stream",
     "text": [
      "[[0.45550084 0.39339247 0.3830999  0.6144195  0.6415162  0.6515182\n",
      "  0.42502823 0.28658062]]\n",
      "Starry™ Lemon Lime Soda, 7.5-ounce 10 pack, at Amazon Storefront\n"
     ]
    }
   ],
   "source": [
    "def multiqa_mp_net_semantic_search(query, documents):\n",
    "    # Initialize the model\n",
    "    model = SentenceTransformer('multi-qa-mpnet-base-dot-v1')\n",
    "\n",
    "    # Encode the documents and query\n",
    "    doc_embeddings = model.encode(documents)\n",
    "    query_embedding = model.encode([query])\n",
    "\n",
    "    # Compute cosine similarity between the query and all documents\n",
    "    similarities = cosine_similarity(query_embedding, doc_embeddings)\n",
    "    print(similarities)\n",
    "    \n",
    "    # Get the index of the most similar document\n",
    "    most_similar_idx = similarities[0].argmax()\n",
    "\n",
    "    # Return the most similar document\n",
    "    return documents[most_similar_idx]\n",
    "\n",
    "\n",
    "# Test the function\n",
    "documents = [\n",
    "\"Dr Pepper®, Regular OR Zero Sugar Strawberries and Cream 12 pack, at select retailers\",\n",
    "\"This is another sentence.\",\n",
    "\"Yet another sentence.\",\n",
    "\"PepsiCo® Beverage, 7.5-ounce 10 pack, select varieties, at Amazon Storefront*\",\n",
    "\"Stubborn Soda OR Bundaberg Ginger Beer, select varieties, at Amazon Storefront\",\n",
    "\"Starry™ Lemon Lime Soda, 7.5-ounce 10 pack, at Amazon Storefront\",\n",
    "\"Butterball, select varieties, spend $10 at Dillons Food Store\",\n",
    "\"L'Oréal Paris Hair color, select varieties, spend $19 at Target\"\n",
    "]\n",
    "query = \"soda\"\n",
    "\n",
    "print(multiqa_mp_net_semantic_search(query, documents))"
   ]
  },
  {
   "cell_type": "markdown",
   "id": "3d9df284",
   "metadata": {},
   "source": [
    "# Use for acceptance 1"
   ]
  },
  {
   "cell_type": "code",
   "execution_count": 15,
   "id": "e5647c09",
   "metadata": {},
   "outputs": [
    {
     "name": "stderr",
     "output_type": "stream",
     "text": [
      "2023-07-28 18:07:32.960 Load pretrained SentenceTransformer: multi-qa-mpnet-base-dot-v1\n",
      "2023-07-28 18:07:33.911 Use pytorch device: cpu\n"
     ]
    },
    {
     "data": {
      "application/vnd.jupyter.widget-view+json": {
       "model_id": "290aff8026734aebab37c8fe9620a1eb",
       "version_major": 2,
       "version_minor": 0
      },
      "text/plain": [
       "Batches:   0%|          | 0/1 [00:00<?, ?it/s]"
      ]
     },
     "metadata": {},
     "output_type": "display_data"
    },
    {
     "data": {
      "application/vnd.jupyter.widget-view+json": {
       "model_id": "3c143a9af8044effa0838ce78a533274",
       "version_major": 2,
       "version_minor": 0
      },
      "text/plain": [
       "Batches:   0%|          | 0/1 [00:00<?, ?it/s]"
      ]
     },
     "metadata": {},
     "output_type": "display_data"
    },
    {
     "name": "stdout",
     "output_type": "stream",
     "text": [
      "{'Dr Pepper®, Regular OR Zero Sugar Strawberries and Cream 12 pack, at select retailers': 0.45550084, 'This is another sentence.': 0.39339247, 'Yet another sentence.': 0.3830999, 'PepsiCo® Beverage, 7.5-ounce 10 pack, select varieties, at Amazon Storefront*': 0.6144195, 'Stubborn Soda OR Bundaberg Ginger Beer, select varieties, at Amazon Storefront': 0.6415162, 'Starry™ Lemon Lime Soda, 7.5-ounce 10 pack, at Amazon Storefront': 0.6515182, 'Butterball, select varieties, spend $10 at Dillons Food Store': 0.42502823, \"L'Oréal Paris Hair color, select varieties, spend $19 at Target\": 0.28658062}\n"
     ]
    }
   ],
   "source": [
    "from sklearn.metrics.pairwise import cosine_similarity\n",
    "from sentence_transformers import SentenceTransformer\n",
    "import numpy as np\n",
    "\n",
    "def multiqa_mp_net_semantic_search(query, documents):\n",
    "    # Initialize the model\n",
    "    model = SentenceTransformer('multi-qa-mpnet-base-dot-v1')\n",
    "\n",
    "    # Encode the documents and query\n",
    "    doc_embeddings = model.encode(documents)\n",
    "    query_embedding = model.encode([query])\n",
    "\n",
    "    # Compute cosine similarity between the query and all documents\n",
    "    similarities = cosine_similarity(query_embedding, doc_embeddings)\n",
    "\n",
    "    # Create a dictionary to store each document with its similarity score\n",
    "    similarity_dict = {doc: score for doc, score in zip(documents, similarities[0])}\n",
    "\n",
    "    # Return the dictionary\n",
    "    return similarity_dict\n",
    "\n",
    "# Test the function\n",
    "documents = [\n",
    "\"Dr Pepper®, Regular OR Zero Sugar Strawberries and Cream 12 pack, at select retailers\",\n",
    "\"This is another sentence.\",\n",
    "\"Yet another sentence.\",\n",
    "\"PepsiCo® Beverage, 7.5-ounce 10 pack, select varieties, at Amazon Storefront*\",\n",
    "\"Stubborn Soda OR Bundaberg Ginger Beer, select varieties, at Amazon Storefront\",\n",
    "\"Starry™ Lemon Lime Soda, 7.5-ounce 10 pack, at Amazon Storefront\",\n",
    "\"Butterball, select varieties, spend $10 at Dillons Food Store\",\n",
    "\"L'Oréal Paris Hair color, select varieties, spend $19 at Target\"\n",
    "]\n",
    "query = \"soda\"\n",
    "\n",
    "print(multiqa_mp_net_semantic_search(query, documents))\n"
   ]
  },
  {
   "cell_type": "code",
   "execution_count": 16,
   "id": "992b78a8",
   "metadata": {},
   "outputs": [
    {
     "name": "stderr",
     "output_type": "stream",
     "text": [
      "2023-07-28 18:07:34.852 Load pretrained SentenceTransformer: multi-qa-mpnet-base-dot-v1\n",
      "2023-07-28 18:07:35.799 Use pytorch device: cpu\n"
     ]
    },
    {
     "data": {
      "application/vnd.jupyter.widget-view+json": {
       "model_id": "c4e1faa5178c474480e92753c6c3965d",
       "version_major": 2,
       "version_minor": 0
      },
      "text/plain": [
       "Batches:   0%|          | 0/4 [00:00<?, ?it/s]"
      ]
     },
     "metadata": {},
     "output_type": "display_data"
    },
    {
     "data": {
      "application/vnd.jupyter.widget-view+json": {
       "model_id": "043d1e2c7e5849be841255997bcc4ea9",
       "version_major": 2,
       "version_minor": 0
      },
      "text/plain": [
       "Batches:   0%|          | 0/1 [00:00<?, ?it/s]"
      ]
     },
     "metadata": {},
     "output_type": "display_data"
    },
    {
     "name": "stdout",
     "output_type": "stream",
     "text": [
      "L'Oréal Paris Makeup, spend $35 at Target: 0.465995728969574\n",
      "Little Bites® Spend $10 at Walmart®: 0.41685786843299866\n",
      "L'Oréal Paris Hair color, select varieties, spend $19 at Target: 0.4153546690940857\n",
      "Spend $15 at Nekter: 0.3966449201107025\n",
      "Spend $90 at Tom Thumb: 0.39235273003578186\n"
     ]
    }
   ],
   "source": [
    "# Test the function\n",
    "documents = [\n",
    "\"Dr Pepper®, Regular OR Zero Sugar Strawberries and Cream 12 pack, at select retailers\",\n",
    "\"This is another sentence.\",\n",
    "\"Yet another sentence.\",\n",
    "\"PepsiCo® Beverage, 7.5-ounce 10 pack, select varieties, at Amazon Storefront*\",\n",
    "\"Stubborn Soda OR Bundaberg Ginger Beer, select varieties, at Amazon Storefront\",\n",
    "\"Starry™ Lemon Lime Soda, 7.5-ounce 10 pack, at Amazon Storefront\",\n",
    "\"Butterball, select varieties, spend $10 at Dillons Food Store\",\n",
    "\"L'Oréal Paris Hair color, select varieties, spend $19 at Target\",\n",
    "\"Barilla® Pesto Sauce\",\n",
    "\"Egglife Egg White Wraps at Aldi\",\n",
    "    \"Simply Spiked™ Lemonade 12 pack+\",\n",
    "    \"Gorton's, at select retailers\",\n",
    "    \"Shop 2 times at ACME\",\n",
    "    \"Butterball, select varieties, spend $10 at Ralphs\",\n",
    "    \"Beyond Steak™ Plant-Based seared tips, 10 ounce, buy 2 at H-E-B\",\n",
    "    \"Butterball, select varieties, Spend $10 at Ruler Foods\",\n",
    "    \"Spend $20 at KFC\",\n",
    "    \"Spend $15 at Nekter\",\n",
    "    \"Order online at Zaxbys.com\",\n",
    "    \"Butterball, select varieties, spend $10 at King Soopers\",\n",
    "    \"Order from Casey's app or Caseys.com\",\n",
    "    \"Tru-Ray® Premium Construction Paper, spend $10\",\n",
    "    \"Flonase Allergy Relief, at Walmart\",\n",
    "    \"Spend $25 at KFC\",\n",
    "    \"Gorton's Air Fried Butterfly Shrimp, at Walmart\",\n",
    "    \"CESAR® Wet Dog Food, spend $20\",\n",
    "    \"TWIX®, select sizes\",\n",
    "    \"M&M'S® chocolate candies, select varieties\",\n",
    "    \"Hidden Valley® Ranch Salad Dressing OR Secret Sauce, select varieties\",\n",
    "    \"Spend $210 at Randalls\",\n",
    "    \"Cooked Perfect® Meatballs, at Walmart\",\n",
    "    \"Spend $25 at Casey's\",\n",
    "    \"Perfect Keto Barista Blend Collagen & MCTs, online at Amazon\",\n",
    "    \"Creativity Street®, spend $10\",\n",
    "    \"Crunchmaster® Crackers, spend $4\",\n",
    "    \"Tyson Products, select varieties, spend $20 at Sam's Club\",\n",
    "    \"L'Oréal Paris Makeup, spend $35 at Target\",\n",
    "    \"Spend $25 at Subway\",\n",
    "    \"Any Vons receipt\",\n",
    "    \"Chosen Foods® Mayo, select varieties\",\n",
    "    \"L'Oréal Paris Men Expert hair color, spend $19 at Walmart\",\n",
    "    \"Spend $185 at Shaws\",\n",
    "    \"Spend $150 at Vons\",\n",
    "    \"Wine from TheBarrelRoom.com, spend $30\",\n",
    "    \"General Mills™ products, select brands, spend $35\",\n",
    "    \"PepsiCo® Beverage, 7.5-ounce 10 pack, select varieties, at Amazon Storefront*\",\n",
    "    \"Sara Lee® bread, select varieties, buy 2 at Walmart®\",\n",
    "    \"Sara Lee® or Alfaros® Artesano bread, buy 5\",\n",
    "    \"Bai® Antioxidant, 6 pack, buy 2 at Walmart\",\n",
    "    \"Spend $5 in-store at Casey's\",\n",
    "    \"Reese's Chocolate Cones, 8 count at GIANT OR MARTIN’S\",\n",
    "    \"Spend $25 at Fresh Thyme Market\",\n",
    "    \"Any Albertsons receipt\",\n",
    "    \"Shop 2 times at Albertsons\",\n",
    "    \"Select beverages AND prepared food items at Casey's\",\n",
    "    \"QUEEN V® The VIP & The Wingwoman Soft Touch Silicone Vibrator at Walmart\",\n",
    "    \"Back to the Roots Grow Seed Starting Pots OR Germination Trays, at Walmart or Target\",\n",
    "    \"Dove Hand Wash, select varieties, buy 2 at Target\",\n",
    "    \"Frutero Ice Cream, 1 pint\",\n",
    "    \"Red Gold Tomato Juice\",\n",
    "    \"Bio-Oil® Skincare Oil OR Gel, select varieties\",\n",
    "    \"Spend $65 at Albertsons\",\n",
    "    \"Welch's®Fruit Snacks, select varieties, buy 2\",\n",
    "    \"Talenti Mini Bars\",\n",
    "    \"Visit OR order online from Casey's 7 times\",\n",
    "    \"Simply Spiked™ Signature Peach 12-pack or larger, buy 2\",\n",
    "    \"Molson Coors®, select varieties, 12 pack+\",\n",
    "    \"Welch's® Zero Sugar Fruity Bites, 6 pack+, online at Amazon\",\n",
    "    \"PepsiCo® Variety Pack, select varieties, at Amazon Storefront*\",\n",
    "    \"Spend $100 at Vons\",\n",
    "    \"Spend $15 at Subway\",\n",
    "    \"Spend $35 at Fresh Thyme Market\",\n",
    "    \"Sign up for The Club Card or The Club+ Card full-priced membership* (New Members Only)\",\n",
    "    \"Marinela® sweet baked goods, buy 2\",\n",
    "    \"Back to the Roots Soils, select varieties and sizes, at Walmart\",\n",
    "    \"Any General Mills™ products, spend $60\",\n",
    "    \"Welch's® Fruit Snacks, select varieties, 6 count+, buy 3\",\n",
    "    \"Spend $90 at Tom Thumb\",\n",
    "    \"Spend $5 on single-serve prepared food items at Casey's\",\n",
    "    \"Coors Light®, Miller Lite® OR VIZZY™ 12 pack+\",\n",
    "    \"Cooked Perfect® Meatballs, Homestyle OR Turkey, at Walmart\",\n",
    "    \"12 Pack OR 2 Liter AND Whole Pizza Pie at Casey's\",\n",
    "    \"General Mills™ products, select brands, spend $7 at Convenience Stores\",\n",
    "    \"Gillette Venus ® for Pubic Hair & Skin\",\n",
    "    \"Barilla® Pasta, select varieties, buy 2\",\n",
    "    \"Little Bites® Spend $10 at Walmart®\",\n",
    "    \"Envy Apples pre-packed bags\",\n",
    "    \"Shop 2 times at Tom Thumb\",\n",
    "    \"Ben & Jerry's Frozen Creme Brulee Non Dairy Dessert, 16 ounce\",\n",
    "    \"Purex® laundry detergent, select varieties, at Walmart\",\n",
    "    \"Whole Pizza at Casey's\",\n",
    "    \"Shop 2 times at Safeway\",\n",
    "    \"Any General Mills™ products, spend $30\",\n",
    "    \"Ben & Jerry's® Doggie Desserts, 4 count\",\n",
    "    \"Sol® 6 pack+\",\n",
    "    \"George's Farmers Market Chicken Wings, at Sam's Club\",\n",
    "    \"Michael Angelo's® OR Rao's® Frozen Entrees, spend $10\",\n",
    "    \"Sargento Sliced Cheese, spend $25\",\n",
    "    \"Sargento Sliced Cheese, spend $12\",\n",
    "    \"Country Crock® Plant Based Butter at Walmart\",\n",
    "    \"Perfect Keto Beauty + Sleep Collagen, online at Amazon\",\n",
    "    \"DOVE® chocolate, select varieties\",\n",
    "    \"Simply Spiked™ 12 pack+\",\n",
    "    \"Perfect Keto Bars, online at Amazon\",\n",
    "    \"Gillette Venus ® for Pubic Hair & Skin, spend $20\",\n",
    "    \"AleveX™ at Walmart\",\n",
    "    \"Envy Apples, pre-packed bags\",\n",
    "    \"Ben & Jerry's Frozen Sugar Cookie Dough Chunks, 8 ounce\",\n",
    "    \"L’Oréal Paris Men Expert hair color, spend $9 at Walmart\",\n",
    "    \"Reese's Peanut Butter Bar, 6 count, at GIANT OR MARTIN’S\",\n",
    "    \"Magnum Non-Dairy Hazelnut Crunch Ice Cream Bars, 3 count\",\n",
    "    \"Butterball, select varieties, spend $10 at Fred Meyer\",\n",
    "    \"Thomas'® Bagel Thins®, buy 2\",\n",
    "    \"Spend $60 at TGI Friday's\",\n",
    "    \"Artesano® buns, buy 2 at Walmart®\",\n",
    "    \"STARBURST®, select sizes, buy 1\",\n",
    "    \"Fresh Step® Outstretch® Cat Litter\"]\n",
    "\n",
    "query = \"Target\"\n",
    "\n",
    "data = multiqa_mp_net_semantic_search(query, documents)\n",
    "\n",
    "# Sort the dictionary items by their values in descending order\n",
    "sorted_results = sorted(data.items(), key=lambda x: x[1], reverse=True)\n",
    "\n",
    "# Get the top 5 results\n",
    "top_5_results = sorted_results[:5]\n",
    "\n",
    "# Print the top 5 results\n",
    "for item, value in top_5_results:\n",
    "    print(f\"{item}: {value}\")"
   ]
  },
  {
   "cell_type": "code",
   "execution_count": 17,
   "id": "8775b277",
   "metadata": {},
   "outputs": [],
   "source": [
    "# pip install faiss-cpu"
   ]
  },
  {
   "cell_type": "code",
   "execution_count": 18,
   "id": "18376be4",
   "metadata": {},
   "outputs": [
    {
     "name": "stderr",
     "output_type": "stream",
     "text": [
      "2023-07-28 18:07:46.621 Loading faiss.\n",
      "2023-07-28 18:07:46.901 Successfully loaded faiss.\n"
     ]
    }
   ],
   "source": [
    "from sentence_transformers import SentenceTransformer\n",
    "import numpy as np\n",
    "import faiss\n",
    "\n",
    "def multiqa_mp_net_semantic_search_faiss(query, documents):\n",
    "    # Initialize the model\n",
    "    model = SentenceTransformer('multi-qa-mpnet-base-dot-v1')\n",
    "\n",
    "    # Encode the documents and query\n",
    "    doc_embeddings = model.encode(documents)\n",
    "    query_embedding = model.encode([query])\n",
    "\n",
    "    # Construct an index of the documents embeddings for Faiss\n",
    "    index = faiss.IndexFlatL2(doc_embeddings.shape[1])\n",
    "    index.add(np.ascontiguousarray(doc_embeddings))\n",
    "\n",
    "    # Query the Faiss index\n",
    "    D, I = index.search(np.array([query_embedding[0]]), len(documents))\n",
    "\n",
    "    # D contains the distances and I contains the indices of the most similar embeddings\n",
    "    similarity_dict = {documents[idx]: 1 - dist for idx, dist in zip(I[0], D[0])}\n",
    "\n",
    "    # Return the dictionary\n",
    "    return similarity_dict\n"
   ]
  },
  {
   "cell_type": "code",
   "execution_count": 19,
   "id": "81dca33d",
   "metadata": {},
   "outputs": [
    {
     "name": "stderr",
     "output_type": "stream",
     "text": [
      "2023-07-28 18:07:48.036 Load pretrained SentenceTransformer: multi-qa-mpnet-base-dot-v1\n",
      "2023-07-28 18:07:49.113 Use pytorch device: cpu\n"
     ]
    },
    {
     "data": {
      "application/vnd.jupyter.widget-view+json": {
       "model_id": "03171db92897431ea4737523b8a41e49",
       "version_major": 2,
       "version_minor": 0
      },
      "text/plain": [
       "Batches:   0%|          | 0/4 [00:00<?, ?it/s]"
      ]
     },
     "metadata": {},
     "output_type": "display_data"
    },
    {
     "data": {
      "application/vnd.jupyter.widget-view+json": {
       "model_id": "7526fa0ed4af4331a4d853ded923e239",
       "version_major": 2,
       "version_minor": 0
      },
      "text/plain": [
       "Batches:   0%|          | 0/1 [00:00<?, ?it/s]"
      ]
     },
     "metadata": {},
     "output_type": "display_data"
    },
    {
     "name": "stdout",
     "output_type": "stream",
     "text": [
      "L'Oréal Paris Makeup, spend $35 at Target: -41.01362609863281\n",
      "This is another sentence.: -43.55303192138672\n",
      "Little Bites® Spend $10 at Walmart®: -45.68458557128906\n",
      "L'Oréal Paris Hair color, select varieties, spend $19 at Target: -46.02521514892578\n",
      "Yet another sentence.: -48.30513000488281\n"
     ]
    }
   ],
   "source": [
    "data = multiqa_mp_net_semantic_search_faiss(query, documents)\n",
    "\n",
    "# Sort the dictionary items by their values in descending order\n",
    "sorted_results = sorted(data.items(), key=lambda x: x[1], reverse=True)\n",
    "\n",
    "# Get the top 5 results\n",
    "top_5_results = sorted_results[:5]\n",
    "\n",
    "# Print the top 5 results\n",
    "for item, value in top_5_results:\n",
    "    print(f\"{item}: {value}\")"
   ]
  },
  {
   "cell_type": "markdown",
   "id": "b0904376",
   "metadata": {},
   "source": [
    "# trying ANN with Semantic Search "
   ]
  },
  {
   "cell_type": "code",
   "execution_count": 20,
   "id": "ed17e8ab",
   "metadata": {},
   "outputs": [],
   "source": [
    "# pip install annoy"
   ]
  },
  {
   "cell_type": "code",
   "execution_count": 21,
   "id": "70f06dec",
   "metadata": {},
   "outputs": [],
   "source": [
    "\n",
    "from sentence_transformers import SentenceTransformer\n",
    "from sklearn.preprocessing import normalize\n",
    "from annoy import AnnoyIndex\n",
    "import numpy as np\n",
    "\n",
    "def multiqa_mp_net_semantic_search_ann(query, documents, num_nearest_neighbors=1):\n",
    "    # Initialize the model\n",
    "    model = SentenceTransformer('multi-qa-mpnet-base-dot-v1')\n",
    "\n",
    "    # Encode the documents and query\n",
    "    doc_embeddings = model.encode(documents)\n",
    "    query_embedding = model.encode([query])\n",
    "\n",
    "    # Normalize the embeddings (Annoy requires this step)\n",
    "    doc_embeddings = normalize(doc_embeddings)\n",
    "    query_embedding = normalize(query_embedding)\n",
    "\n",
    "    # Set the number of dimensions for Annoy\n",
    "    f = doc_embeddings.shape[1]\n",
    "\n",
    "    # Initialize the Annoy Index\n",
    "    t = AnnoyIndex(f, 'angular')\n",
    "\n",
    "    # Build the Annoy index\n",
    "    for i in range(len(documents)):\n",
    "        v = doc_embeddings[i]\n",
    "        t.add_item(i, v)\n",
    "\n",
    "    t.build(10)  # 10 trees\n",
    "\n",
    "    # Use the Annoy index to find the nearest neighbors to the query\n",
    "    nearest_ids = t.get_nns_by_vector(query_embedding[0], num_nearest_neighbors)\n",
    "\n",
    "    # Return the nearest documents and their corresponding distances\n",
    "    return [(documents[id], t.get_distance(id, nearest_ids[0])) for id in nearest_ids]\n"
   ]
  },
  {
   "cell_type": "code",
   "execution_count": 23,
   "id": "601a7ef3",
   "metadata": {},
   "outputs": [
    {
     "name": "stderr",
     "output_type": "stream",
     "text": [
      "2023-07-28 18:09:08.421 Load pretrained SentenceTransformer: multi-qa-mpnet-base-dot-v1\n",
      "2023-07-28 18:09:09.683 Use pytorch device: cpu\n"
     ]
    },
    {
     "data": {
      "application/vnd.jupyter.widget-view+json": {
       "model_id": "c85c883fe1b243d7b04cbf43313582c8",
       "version_major": 2,
       "version_minor": 0
      },
      "text/plain": [
       "Batches:   0%|          | 0/4 [00:00<?, ?it/s]"
      ]
     },
     "metadata": {},
     "output_type": "display_data"
    },
    {
     "data": {
      "application/vnd.jupyter.widget-view+json": {
       "model_id": "f8bc1d8f53e74b0986a3088a2e51ce4f",
       "version_major": 2,
       "version_minor": 0
      },
      "text/plain": [
       "Batches:   0%|          | 0/1 [00:00<?, ?it/s]"
      ]
     },
     "metadata": {},
     "output_type": "display_data"
    },
    {
     "data": {
      "text/plain": [
       "[(\"L'Oréal Paris Makeup, spend $35 at Target\", 6.743495646333031e-07),\n",
       " ('Little Bites® Spend $10 at Walmart®', 1.02714204788208),\n",
       " (\"L'Oréal Paris Hair color, select varieties, spend $19 at Target\",\n",
       "  0.5913639664649963),\n",
       " ('Spend $15 at Nekter', 0.9909837245941162)]"
      ]
     },
     "execution_count": 23,
     "metadata": {},
     "output_type": "execute_result"
    }
   ],
   "source": [
    "multiqa_mp_net_semantic_search_ann(query, documents,4)"
   ]
  },
  {
   "cell_type": "markdown",
   "id": "78774856",
   "metadata": {},
   "source": []
  }
 ],
 "metadata": {
  "kernelspec": {
   "display_name": "Python 3",
   "language": "python",
   "name": "python3"
  },
  "language_info": {
   "codemirror_mode": {
    "name": "ipython",
    "version": 3
   },
   "file_extension": ".py",
   "mimetype": "text/x-python",
   "name": "python",
   "nbconvert_exporter": "python",
   "pygments_lexer": "ipython3",
   "version": "3.8.8"
  }
 },
 "nbformat": 4,
 "nbformat_minor": 5
}
